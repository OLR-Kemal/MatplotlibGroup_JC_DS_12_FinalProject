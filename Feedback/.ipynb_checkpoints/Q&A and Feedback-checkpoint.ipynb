{
 "cells": [
  {
   "cell_type": "markdown",
   "metadata": {},
   "source": [
    "# Q&A"
   ]
  },
  {
   "cell_type": "markdown",
   "metadata": {},
   "source": [
    "##### How do we measure how significantly our model does in achieving the business objectives?\n",
    "\n",
    "As stated in <a href='../Jupyter Notebook/Lead - Residential.ipynb'>Lead - Residential</a> part I. Problem Identification\n",
    "point 1. Problem Definition:\n",
    "> \"... Since lenders can’t lend out money more than a property is worth$^7$, all of these risks may cause the project owner to determine wrong appraisal value and to make a wrong decision whether to give the loan to a borrower$^8$.\"\n",
    "\n",
    "and in <a href='../Jupyter Notebook/Appendix 1.ipynb'>Appendix 1</a> part I. Problem Identification point 8 :\n",
    ">\"This is the main concern of the project owner in the bigger picture, however, as the assignment of our case study is a regression case, we will limit the output of our project only to make a value estimation. <u>The decision whether to give the loan to a borrower is out of the scope of this project.</u>\"\n",
    "\n",
    "\n",
    "Our model does not play a direct role in determining the end decision for giving loan, however it can support and improve the overall process of underwriting and more specifically in appraisal evaluation.\n",
    "\n",
    "Our model can also become a control to mitigate the risks of fraud or erroneous results by the third party, AMC. With our model implemented in the business process, the business process will improve and the control within the process will be strengthen. Improvement and strong control (mitigation) will result in the achievement of the business objectives."
   ]
  },
  {
   "cell_type": "markdown",
   "metadata": {},
   "source": [
    "##### What are some fraud examples in this case?\n",
    "\n",
    "As stated in <a href='../Jupyter Notebook/Appendix 1.ipynb'>Appendix 1</a> part Background point 5 :\n",
    ">\"Appraisal fraud often involves a real estate agent, builder, appraiser, and loan officer working together to maximize a purchase price and loan amount in order to increase their commissions. On the other hand, corrupt appraisers will often undervalue a property to ensure that a fellow investor will be able to purchase the asset.\"\n",
    "\n",
    "In addition, there are two distinct areas of mortgage fraud — fraud for profit and fraud for housing. \n",
    "\n",
    "1. Fraud for profit: Those who commit this type of mortgage fraud are often industry insiders using their specialized knowledge or authority to commit or facilitate the fraud. Current investigations and widespread reporting indicate a high percentage of mortgage fraud involves collusion by industry insiders, such as bank officers, appraisers, mortgage brokers, attorneys, loan originators, and other professionals engaged in the industry. Fraud for profit aims not to secure housing, but rather to misuse the mortgage lending process to steal cash and equity from lenders or homeowners.\n",
    "\n",
    "2. Fraud for housing: This type of fraud is typically represented by illegal actions taken by a borrower motivated to acquire or maintain ownership of a house. The borrower may, for example, misrepresent income and asset information on a loan application or entice an appraiser to manipulate a property’s appraised value.\n",
    "\n",
    "Reference : https://www.investopedia.com/articles/mortgages-real-estate/10/how-mortgage-fraud-affects-markets.asp"
   ]
  },
  {
   "cell_type": "markdown",
   "metadata": {},
   "source": [
    "##### Is the purpose of this project to help in the property appraisal process to ensure that the property to be mortaged is not over/under appraised and thus will not cause loss for the bank?\n",
    "\n",
    "Yes, but to be more precise it is to help ensuring that <u>the property that a buyer wants to buy by borrowing money from bank</u> is not over/under appraised. As stated in <a href='../Jupyter Notebook/Appendix 1.ipynb'>Appendix 1</a> part Background point 2 :\n",
    ">\"An appraisal is conducted by a licensed or certified professional, whose opinion of a home’s value is provided as a disinterested and unbiased third party. In a refinance transaction, <u>the appraisal protects the bank by ensuring that it doesn’t lend the borrower more money than the property is worth.</u>\"\n",
    "\n",
    "Please note that in the underwriting process, it involves several evaluations (e.g., evaluating the potential borrower's income and asset, appraisal, etc), however evaluating the property that the buyer wants to buy is also a crucial part of the process as stated in <a href='../Jupyter Notebook/Appendix 1.ipynb'>Appendix 1</a> part Background point 3 :\n",
    ">\"An Appraisal Management Company, or AMC, is an independent entity through which mortgage lenders order residential real estate valuation services <u>for properties on which they are considering extending loans to homebuyers</u>. ...\"\n",
    "\n",
    "We noted that this project can also help protecting not only the Bank and borrowers, but also the property owners."
   ]
  },
  {
   "cell_type": "markdown",
   "metadata": {},
   "source": [
    "# Feedback"
   ]
  },
  {
   "cell_type": "markdown",
   "metadata": {},
   "source": [
    "We received several feedback for improving our project. The revision that we made/added is as follows:\n",
    "\n",
    "- Add additional value that our project not only benefits the Bank and borrowers, but also protects the property owners.\n",
    "- Compare the target evaluation metrics of ±12% Mean Absoulte Error (MAE) to the mean of the property price and compare the target evaluation metrics of ±12% Median Absoulte Error to the median of the property price."
   ]
  }
 ],
 "metadata": {
  "kernelspec": {
   "display_name": "Python 3",
   "language": "python",
   "name": "python3"
  },
  "language_info": {
   "codemirror_mode": {
    "name": "ipython",
    "version": 3
   },
   "file_extension": ".py",
   "mimetype": "text/x-python",
   "name": "python",
   "nbconvert_exporter": "python",
   "pygments_lexer": "ipython3",
   "version": "3.8.5"
  }
 },
 "nbformat": 4,
 "nbformat_minor": 4
}
