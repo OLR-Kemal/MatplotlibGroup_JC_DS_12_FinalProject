{
 "cells": [
  {
   "cell_type": "markdown",
   "metadata": {},
   "source": [
    "# IV. Modeling"
   ]
  },
  {
   "cell_type": "code",
   "execution_count": 1,
   "metadata": {},
   "outputs": [],
   "source": [
    "import numpy as np\n",
    "import pandas as pd\n",
    "import matplotlib.pyplot as plt\n",
    "import seaborn as sns"
   ]
  },
  {
   "cell_type": "code",
   "execution_count": 2,
   "metadata": {
    "scrolled": false
   },
   "outputs": [
    {
     "data": {
      "text/html": [
       "<div>\n",
       "<style scoped>\n",
       "    .dataframe tbody tr th:only-of-type {\n",
       "        vertical-align: middle;\n",
       "    }\n",
       "\n",
       "    .dataframe tbody tr th {\n",
       "        vertical-align: top;\n",
       "    }\n",
       "\n",
       "    .dataframe thead th {\n",
       "        text-align: right;\n",
       "    }\n",
       "</style>\n",
       "<table border=\"1\" class=\"dataframe\">\n",
       "  <thead>\n",
       "    <tr style=\"text-align: right;\">\n",
       "      <th></th>\n",
       "      <th>BATHRM</th>\n",
       "      <th>HF_BATHRM</th>\n",
       "      <th>HEAT</th>\n",
       "      <th>AC</th>\n",
       "      <th>NUM_UNITS</th>\n",
       "      <th>ROOMS</th>\n",
       "      <th>BEDRM</th>\n",
       "      <th>AYB</th>\n",
       "      <th>EYB</th>\n",
       "      <th>PRICE</th>\n",
       "      <th>QUALIFIED</th>\n",
       "      <th>GBA</th>\n",
       "      <th>BLDG_NUM</th>\n",
       "      <th>STYLE</th>\n",
       "      <th>STRUCT</th>\n",
       "      <th>GRADE</th>\n",
       "      <th>CNDTN</th>\n",
       "      <th>EXTWALL</th>\n",
       "      <th>ROOF</th>\n",
       "      <th>INTWALL</th>\n",
       "      <th>KITCHENS</th>\n",
       "      <th>FIREPLACES</th>\n",
       "      <th>USECODE</th>\n",
       "      <th>LANDAREA</th>\n",
       "      <th>ZIPCODE</th>\n",
       "      <th>LATITUDE</th>\n",
       "      <th>LONGITUDE</th>\n",
       "      <th>ASSESSMENT_NBHD</th>\n",
       "      <th>CENSUS_TRACT</th>\n",
       "      <th>WARD</th>\n",
       "      <th>SQUARE</th>\n",
       "      <th>QUADRANT</th>\n",
       "      <th>SALEYEAR</th>\n",
       "      <th>ayb_age</th>\n",
       "      <th>eyb_age</th>\n",
       "    </tr>\n",
       "  </thead>\n",
       "  <tbody>\n",
       "    <tr>\n",
       "      <th>0</th>\n",
       "      <td>4</td>\n",
       "      <td>0</td>\n",
       "      <td>Warm Cool</td>\n",
       "      <td>Y</td>\n",
       "      <td>2.0</td>\n",
       "      <td>8</td>\n",
       "      <td>4</td>\n",
       "      <td>1910.0</td>\n",
       "      <td>1972</td>\n",
       "      <td>1095000.0</td>\n",
       "      <td>Q</td>\n",
       "      <td>2522.0</td>\n",
       "      <td>1</td>\n",
       "      <td>3 Story</td>\n",
       "      <td>1</td>\n",
       "      <td>4</td>\n",
       "      <td>1</td>\n",
       "      <td>Common Brick</td>\n",
       "      <td>1</td>\n",
       "      <td>Hardwood</td>\n",
       "      <td>2.0</td>\n",
       "      <td>5</td>\n",
       "      <td>24</td>\n",
       "      <td>1680</td>\n",
       "      <td>20009.0</td>\n",
       "      <td>38.914680</td>\n",
       "      <td>-77.040832</td>\n",
       "      <td>Old City 2</td>\n",
       "      <td>4201.0</td>\n",
       "      <td>Ward 2</td>\n",
       "      <td>152</td>\n",
       "      <td>NW</td>\n",
       "      <td>2003</td>\n",
       "      <td>108.0</td>\n",
       "      <td>46</td>\n",
       "    </tr>\n",
       "    <tr>\n",
       "      <th>1</th>\n",
       "      <td>3</td>\n",
       "      <td>1</td>\n",
       "      <td>Hot Water Rad</td>\n",
       "      <td>Y</td>\n",
       "      <td>2.0</td>\n",
       "      <td>9</td>\n",
       "      <td>3</td>\n",
       "      <td>1908.0</td>\n",
       "      <td>1969</td>\n",
       "      <td>592250.0</td>\n",
       "      <td>Q</td>\n",
       "      <td>1598.0</td>\n",
       "      <td>1</td>\n",
       "      <td>2 Story</td>\n",
       "      <td>1</td>\n",
       "      <td>3</td>\n",
       "      <td>1</td>\n",
       "      <td>Common Brick</td>\n",
       "      <td>0</td>\n",
       "      <td>Hardwood</td>\n",
       "      <td>2.0</td>\n",
       "      <td>1</td>\n",
       "      <td>24</td>\n",
       "      <td>1424</td>\n",
       "      <td>20009.0</td>\n",
       "      <td>38.915019</td>\n",
       "      <td>-77.040138</td>\n",
       "      <td>Old City 2</td>\n",
       "      <td>4201.0</td>\n",
       "      <td>Ward 2</td>\n",
       "      <td>152</td>\n",
       "      <td>NW</td>\n",
       "      <td>2001</td>\n",
       "      <td>110.0</td>\n",
       "      <td>49</td>\n",
       "    </tr>\n",
       "    <tr>\n",
       "      <th>2</th>\n",
       "      <td>3</td>\n",
       "      <td>1</td>\n",
       "      <td>Hot Water Rad</td>\n",
       "      <td>Y</td>\n",
       "      <td>1.0</td>\n",
       "      <td>14</td>\n",
       "      <td>5</td>\n",
       "      <td>1880.0</td>\n",
       "      <td>1987</td>\n",
       "      <td>33232.0</td>\n",
       "      <td>U</td>\n",
       "      <td>3465.0</td>\n",
       "      <td>1</td>\n",
       "      <td>3 Story</td>\n",
       "      <td>0</td>\n",
       "      <td>4</td>\n",
       "      <td>1</td>\n",
       "      <td>Common Brick</td>\n",
       "      <td>0</td>\n",
       "      <td>Hardwood</td>\n",
       "      <td>1.0</td>\n",
       "      <td>3</td>\n",
       "      <td>13</td>\n",
       "      <td>2090</td>\n",
       "      <td>20009.0</td>\n",
       "      <td>38.911370</td>\n",
       "      <td>-77.033774</td>\n",
       "      <td>Old City 2</td>\n",
       "      <td>5201.0</td>\n",
       "      <td>Ward 2</td>\n",
       "      <td>208</td>\n",
       "      <td>NW</td>\n",
       "      <td>2016</td>\n",
       "      <td>138.0</td>\n",
       "      <td>31</td>\n",
       "    </tr>\n",
       "    <tr>\n",
       "      <th>3</th>\n",
       "      <td>1</td>\n",
       "      <td>0</td>\n",
       "      <td>Forced Air</td>\n",
       "      <td>Y</td>\n",
       "      <td>1.0</td>\n",
       "      <td>6</td>\n",
       "      <td>3</td>\n",
       "      <td>1880.0</td>\n",
       "      <td>1967</td>\n",
       "      <td>907400.0</td>\n",
       "      <td>Q</td>\n",
       "      <td>1790.0</td>\n",
       "      <td>1</td>\n",
       "      <td>2 Story</td>\n",
       "      <td>0</td>\n",
       "      <td>2</td>\n",
       "      <td>1</td>\n",
       "      <td>Common Brick</td>\n",
       "      <td>0</td>\n",
       "      <td>Hardwood</td>\n",
       "      <td>1.0</td>\n",
       "      <td>0</td>\n",
       "      <td>13</td>\n",
       "      <td>2090</td>\n",
       "      <td>20009.0</td>\n",
       "      <td>38.911368</td>\n",
       "      <td>-77.033925</td>\n",
       "      <td>Old City 2</td>\n",
       "      <td>5201.0</td>\n",
       "      <td>Ward 2</td>\n",
       "      <td>208</td>\n",
       "      <td>NW</td>\n",
       "      <td>2006</td>\n",
       "      <td>138.0</td>\n",
       "      <td>51</td>\n",
       "    </tr>\n",
       "    <tr>\n",
       "      <th>4</th>\n",
       "      <td>2</td>\n",
       "      <td>1</td>\n",
       "      <td>Forced Air</td>\n",
       "      <td>Y</td>\n",
       "      <td>1.0</td>\n",
       "      <td>5</td>\n",
       "      <td>3</td>\n",
       "      <td>1880.0</td>\n",
       "      <td>1984</td>\n",
       "      <td>1065000.0</td>\n",
       "      <td>Q</td>\n",
       "      <td>1600.0</td>\n",
       "      <td>1</td>\n",
       "      <td>2 Story</td>\n",
       "      <td>0</td>\n",
       "      <td>2</td>\n",
       "      <td>1</td>\n",
       "      <td>Common Brick</td>\n",
       "      <td>0</td>\n",
       "      <td>Hardwood</td>\n",
       "      <td>1.0</td>\n",
       "      <td>1</td>\n",
       "      <td>13</td>\n",
       "      <td>2090</td>\n",
       "      <td>20009.0</td>\n",
       "      <td>38.911368</td>\n",
       "      <td>-77.033972</td>\n",
       "      <td>Old City 2</td>\n",
       "      <td>5201.0</td>\n",
       "      <td>Ward 2</td>\n",
       "      <td>208</td>\n",
       "      <td>NW</td>\n",
       "      <td>2012</td>\n",
       "      <td>138.0</td>\n",
       "      <td>34</td>\n",
       "    </tr>\n",
       "  </tbody>\n",
       "</table>\n",
       "</div>"
      ],
      "text/plain": [
       "   BATHRM  HF_BATHRM           HEAT AC  NUM_UNITS  ROOMS  BEDRM     AYB   EYB  \\\n",
       "0       4          0      Warm Cool  Y        2.0      8      4  1910.0  1972   \n",
       "1       3          1  Hot Water Rad  Y        2.0      9      3  1908.0  1969   \n",
       "2       3          1  Hot Water Rad  Y        1.0     14      5  1880.0  1987   \n",
       "3       1          0     Forced Air  Y        1.0      6      3  1880.0  1967   \n",
       "4       2          1     Forced Air  Y        1.0      5      3  1880.0  1984   \n",
       "\n",
       "       PRICE QUALIFIED     GBA  BLDG_NUM    STYLE  STRUCT  GRADE  CNDTN  \\\n",
       "0  1095000.0         Q  2522.0         1  3 Story       1      4      1   \n",
       "1   592250.0         Q  1598.0         1  2 Story       1      3      1   \n",
       "2    33232.0         U  3465.0         1  3 Story       0      4      1   \n",
       "3   907400.0         Q  1790.0         1  2 Story       0      2      1   \n",
       "4  1065000.0         Q  1600.0         1  2 Story       0      2      1   \n",
       "\n",
       "        EXTWALL  ROOF   INTWALL  KITCHENS  FIREPLACES  USECODE  LANDAREA  \\\n",
       "0  Common Brick     1  Hardwood       2.0           5       24      1680   \n",
       "1  Common Brick     0  Hardwood       2.0           1       24      1424   \n",
       "2  Common Brick     0  Hardwood       1.0           3       13      2090   \n",
       "3  Common Brick     0  Hardwood       1.0           0       13      2090   \n",
       "4  Common Brick     0  Hardwood       1.0           1       13      2090   \n",
       "\n",
       "   ZIPCODE   LATITUDE  LONGITUDE ASSESSMENT_NBHD  CENSUS_TRACT    WARD  \\\n",
       "0  20009.0  38.914680 -77.040832      Old City 2        4201.0  Ward 2   \n",
       "1  20009.0  38.915019 -77.040138      Old City 2        4201.0  Ward 2   \n",
       "2  20009.0  38.911370 -77.033774      Old City 2        5201.0  Ward 2   \n",
       "3  20009.0  38.911368 -77.033925      Old City 2        5201.0  Ward 2   \n",
       "4  20009.0  38.911368 -77.033972      Old City 2        5201.0  Ward 2   \n",
       "\n",
       "   SQUARE QUADRANT  SALEYEAR  ayb_age  eyb_age  \n",
       "0     152       NW      2003    108.0       46  \n",
       "1     152       NW      2001    110.0       49  \n",
       "2     208       NW      2016    138.0       31  \n",
       "3     208       NW      2006    138.0       51  \n",
       "4     208       NW      2012    138.0       34  "
      ]
     },
     "execution_count": 2,
     "metadata": {},
     "output_type": "execute_result"
    }
   ],
   "source": [
    "# Load dataset\n",
    "df_residential = pd.read_csv('../Data/DF_Residential_v10.csv')\n",
    "pd.set_option('max_columns',100)\n",
    "df_residential.head()"
   ]
  },
  {
   "cell_type": "code",
   "execution_count": 3,
   "metadata": {
    "scrolled": true
   },
   "outputs": [
    {
     "data": {
      "text/plain": [
       "(53737, 35)"
      ]
     },
     "execution_count": 3,
     "metadata": {},
     "output_type": "execute_result"
    }
   ],
   "source": [
    "df_residential.shape"
   ]
  },
  {
   "cell_type": "code",
   "execution_count": 4,
   "metadata": {
    "scrolled": false
   },
   "outputs": [
    {
     "data": {
      "text/plain": [
       "Index(['BATHRM', 'HF_BATHRM', 'HEAT', 'AC', 'NUM_UNITS', 'ROOMS', 'BEDRM',\n",
       "       'AYB', 'EYB', 'PRICE', 'QUALIFIED', 'GBA', 'BLDG_NUM', 'STYLE',\n",
       "       'STRUCT', 'GRADE', 'CNDTN', 'EXTWALL', 'ROOF', 'INTWALL', 'KITCHENS',\n",
       "       'FIREPLACES', 'USECODE', 'LANDAREA', 'ZIPCODE', 'LATITUDE', 'LONGITUDE',\n",
       "       'ASSESSMENT_NBHD', 'CENSUS_TRACT', 'WARD', 'SQUARE', 'QUADRANT',\n",
       "       'SALEYEAR', 'ayb_age', 'eyb_age'],\n",
       "      dtype='object')"
      ]
     },
     "execution_count": 4,
     "metadata": {},
     "output_type": "execute_result"
    }
   ],
   "source": [
    "df_residential.columns"
   ]
  },
  {
   "cell_type": "markdown",
   "metadata": {},
   "source": [
    "## Model Training"
   ]
  },
  {
   "cell_type": "code",
   "execution_count": 5,
   "metadata": {},
   "outputs": [],
   "source": [
    "from sklearn.preprocessing import PolynomialFeatures\n",
    "from sklearn.linear_model import LinearRegression, Ridge, PoissonRegressor\n",
    "from sklearn.tree import DecisionTreeRegressor\n",
    "from sklearn.neighbors import KNeighborsRegressor\n",
    "from sklearn.ensemble import VotingRegressor, RandomForestRegressor\n",
    "from sklearn.metrics import mean_squared_error, r2_score, mean_absolute_error\n",
    "from sklearn.model_selection import cross_val_score\n",
    "from sklearn.model_selection import train_test_split\n",
    "from sklearn.preprocessing import RobustScaler, OneHotEncoder, OrdinalEncoder, StandardScaler\n",
    "from sklearn.compose import ColumnTransformer\n",
    "from sklearn.pipeline import Pipeline"
   ]
  },
  {
   "cell_type": "code",
   "execution_count": 6,
   "metadata": {},
   "outputs": [],
   "source": [
    "# Dictionary to keep the assessment of each model\n",
    "model_assessment = []\n",
    "\n",
    "# Funtion to assess the model performance\n",
    "def assess_model(model, model_key, poly=False):\n",
    "    if poly==True:\n",
    "        dataset = [[X_train_pr, y_train, 'Training'], [X_val_pr, y_val, 'Validation']]\n",
    "    else:\n",
    "        dataset = [[X_train_prepared, y_train, 'Training'], [X_val_prepared, y_val, 'Validation']]\n",
    "    \n",
    "    for data in dataset:\n",
    "        y_pred = model.predict(data[0])\n",
    "        \n",
    "        model_assessment.append([model_key,\n",
    "                               data[2],\n",
    "                               mean_squared_error(data[1], y_pred),\n",
    "                               np.sqrt(mean_squared_error(data[1], y_pred)),\n",
    "                               mean_absolute_error(data[1], y_pred),\n",
    "                               r2_score(data[1], y_pred)])\n",
    "        \n",
    "        print(data[2])\n",
    "        print('MSE: {}'.format(mean_squared_error(data[1], y_pred)))\n",
    "        print('RMSE: {}'.format(np.sqrt(mean_squared_error(data[1], y_pred))))\n",
    "        print('MAE: {}'.format(mean_absolute_error(data[1], y_pred)))\n",
    "        print('R-squared: {}'.format(r2_score(data[1], y_pred)))\n",
    "        print('\\n')"
   ]
  },
  {
   "cell_type": "markdown",
   "metadata": {},
   "source": [
    "### 1. Linear Regression"
   ]
  },
  {
   "cell_type": "code",
   "execution_count": 7,
   "metadata": {},
   "outputs": [],
   "source": [
    "# Splitting Training, Validation, Testing Set\n",
    "num_cols = ['BATHRM', 'HF_BATHRM', 'ROOMS', 'BEDRM', 'GBA', 'ayb_age', 'eyb_age', 'KITCHENS', 'FIREPLACES', 'LANDAREA', 'NUM_UNITS', 'LATITUDE', 'LONGITUDE']\n",
    "onehot_cols = ['AC', 'QUALIFIED', 'WARD', 'QUADRANT', 'HEAT', 'STYLE', 'USECODE', 'ASSESSMENT_NBHD']\n",
    "ordinal_cols = ['STRUCT', 'GRADE', 'CNDTN', 'ROOF', 'SALEYEAR', 'EXTWALL', 'INTWALL']\n",
    "label = ['PRICE']\n",
    "\n",
    "from sklearn.model_selection import train_test_split\n",
    "\n",
    "X = df_residential[num_cols + onehot_cols + ordinal_cols]\n",
    "y = df_residential['PRICE']\n",
    "\n",
    "X_train, X_test, y_train, y_test = train_test_split(X, y, test_size=0.3, random_state=22)\n",
    "X_test, X_val, y_test, y_val = train_test_split(X_test, y_test, test_size=0.5, random_state=22)\n",
    "\n",
    "# Scaling & Encoding\n",
    "col_transformer = ColumnTransformer([\n",
    "    ('robust_scaler', RobustScaler(), num_cols),\n",
    "    ('onehot_encoder', OneHotEncoder(handle_unknown='ignore'), onehot_cols),\n",
    "    ('ordinal_encoder', OrdinalEncoder(handle_unknown='ignore'), ordinal_cols)\n",
    "])\n",
    "\n",
    "X_train_prepared = col_transformer.fit_transform(X_train)\n",
    "X_val_prepared = col_transformer.transform(X_val)\n",
    "X_test_prepared = col_transformer.transform(X_test)"
   ]
  },
  {
   "cell_type": "code",
   "execution_count": 8,
   "metadata": {},
   "outputs": [
    {
     "data": {
      "text/plain": [
       "LinearRegression()"
      ]
     },
     "execution_count": 8,
     "metadata": {},
     "output_type": "execute_result"
    }
   ],
   "source": [
    "lin_reg = LinearRegression(fit_intercept=True)\n",
    "lin_reg.fit(X_train_prepared, y_train)"
   ]
  },
  {
   "cell_type": "code",
   "execution_count": 9,
   "metadata": {},
   "outputs": [
    {
     "name": "stdout",
     "output_type": "stream",
     "text": [
      "Training\n",
      "MSE: 19645862265.320576\n",
      "RMSE: 140163.6981009012\n",
      "MAE: 105798.95955717881\n",
      "R-squared: 0.7999913031194736\n",
      "\n",
      "\n",
      "Validation\n",
      "MSE: 19030997145.520912\n",
      "RMSE: 137952.88016392014\n",
      "MAE: 103853.83148620726\n",
      "R-squared: 0.8055686778739194\n",
      "\n",
      "\n"
     ]
    }
   ],
   "source": [
    "assess_model(lin_reg, 'Linear Regression')"
   ]
  },
  {
   "cell_type": "markdown",
   "metadata": {},
   "source": [
    "In the Multiple Linear Regression model, we get an underfitting result, so we will try to increase the model's complexity with Polynomial Regression. We do not try using Ridge/Lasso to improve the result of this model as performing Ridge/Lasso will not improve the model significantly because of the underfitting result and there is no multicollinearity in our data."
   ]
  },
  {
   "cell_type": "markdown",
   "metadata": {},
   "source": [
    "### 2. Polynomial Regression"
   ]
  },
  {
   "cell_type": "code",
   "execution_count": 10,
   "metadata": {},
   "outputs": [],
   "source": [
    "# Select different features for polynomial\n",
    "num_cols_pr = ['BATHRM', 'HF_BATHRM', 'ROOMS', 'BEDRM','ayb_age', 'eyb_age', 'GBA', 'KITCHENS', 'FIREPLACES']\n",
    "onehot_cols_pr = ['AC', 'QUALIFIED', 'WARD', 'QUADRANT']\n",
    "ordinal_cols_pr = ['STRUCT', 'GRADE', 'CNDTN', 'ROOF', 'SALEYEAR']\n",
    "label_pr = ['PRICE']\n",
    "\n",
    "X_pr = df_residential[num_cols_pr + onehot_cols_pr + ordinal_cols_pr]\n",
    "y_pr = df_residential['PRICE']\n",
    "\n",
    "X_train_p, X_test_p, y_train_p, y_test_p = train_test_split(X_pr, y_pr, test_size=0.3, random_state=22)\n",
    "X_test_p, X_val_p, y_test_p, y_val_p = train_test_split(X_test_p, y_test_p, test_size=0.5, random_state=22)\n",
    "\n",
    "col_transformer = ColumnTransformer([\n",
    "    ('robust_scaler', RobustScaler(), num_cols_pr),\n",
    "    ('onehot_encoder', OneHotEncoder(handle_unknown='ignore'), onehot_cols_pr),\n",
    "    ('ordinal_encoder', OrdinalEncoder(handle_unknown='ignore'), ordinal_cols_pr)\n",
    "])\n",
    "\n",
    "X_train_prepared_pr = col_transformer.fit_transform(X_train_p)\n",
    "X_val_prepared_pr = col_transformer.transform(X_val_p)\n",
    "X_test_prepared_pr = col_transformer.transform(X_test_p)"
   ]
  },
  {
   "cell_type": "code",
   "execution_count": 11,
   "metadata": {},
   "outputs": [],
   "source": [
    "pr = PolynomialFeatures(degree=2, include_bias=False)\n",
    "\n",
    "X_train_pr = pr.fit_transform(X_train_prepared_pr)\n",
    "X_val_pr = pr.transform(X_val_prepared_pr)\n",
    "X_test_pr = pr.transform(X_test_prepared_pr)"
   ]
  },
  {
   "cell_type": "code",
   "execution_count": 12,
   "metadata": {},
   "outputs": [
    {
     "data": {
      "text/plain": [
       "LinearRegression()"
      ]
     },
     "execution_count": 12,
     "metadata": {},
     "output_type": "execute_result"
    }
   ],
   "source": [
    "lin_reg = LinearRegression()\n",
    "\n",
    "lin_reg.fit(X_train_pr, y_train_p)"
   ]
  },
  {
   "cell_type": "code",
   "execution_count": 13,
   "metadata": {
    "scrolled": false
   },
   "outputs": [
    {
     "name": "stdout",
     "output_type": "stream",
     "text": [
      "Training\n",
      "MSE: 13906696120.720123\n",
      "RMSE: 117926.65568360753\n",
      "MAE: 85250.78495118144\n",
      "R-squared: 0.8584200514360414\n",
      "\n",
      "\n",
      "Validation\n",
      "MSE: 13852909407.039034\n",
      "RMSE: 117698.3831963678\n",
      "MAE: 85586.61482509268\n",
      "R-squared: 0.8584709213759018\n",
      "\n",
      "\n"
     ]
    }
   ],
   "source": [
    "assess_model(lin_reg, 'Polynomial Regression', poly=True)"
   ]
  },
  {
   "cell_type": "markdown",
   "metadata": {},
   "source": [
    "After we try to increase the model's complexity with Polynomial Regression and reduce the features, we get a better result. Since the result does not overfit, we will not try to regularize it with Ridge/Lasso."
   ]
  },
  {
   "cell_type": "markdown",
   "metadata": {},
   "source": [
    "### 3. Decision Tree Regressor"
   ]
  },
  {
   "cell_type": "code",
   "execution_count": 14,
   "metadata": {},
   "outputs": [],
   "source": [
    "# Splitting Training, Validation, Testing Set\n",
    "num_cols = ['BATHRM', 'HF_BATHRM', 'ROOMS', 'BEDRM','ayb_age', 'eyb_age', 'GBA', 'KITCHENS', 'FIREPLACES', 'LANDAREA', 'LATITUDE', 'LONGITUDE']\n",
    "onehot_cols = ['AC', 'QUALIFIED', 'WARD', 'QUADRANT', 'HEAT', 'STYLE', 'USECODE']\n",
    "ordinal_cols = ['STRUCT', 'GRADE', 'CNDTN', 'ROOF', 'SALEYEAR']\n",
    "label = ['PRICE']\n",
    "\n",
    "X = df_residential[num_cols + onehot_cols + ordinal_cols]\n",
    "y = df_residential['PRICE']\n",
    "\n",
    "X_train, X_test, y_train, y_test = train_test_split(X, y, test_size=0.3, random_state=22)\n",
    "X_test, X_val, y_test, y_val = train_test_split(X_test, y_test, test_size=0.5, random_state=22)\n",
    "\n",
    "# Scaling & Encoding\n",
    "col_transformer = ColumnTransformer([\n",
    "    ('robust_scaler', RobustScaler(), num_cols),\n",
    "    ('onehot_encoder', OneHotEncoder(handle_unknown='ignore'), onehot_cols),\n",
    "    ('ordinal_encoder', OrdinalEncoder(handle_unknown='ignore'), ordinal_cols)\n",
    "])\n",
    "\n",
    "X_train_prepared = col_transformer.fit_transform(X_train)\n",
    "X_val_prepared = col_transformer.transform(X_val)\n",
    "X_test_prepared = col_transformer.transform(X_test)"
   ]
  },
  {
   "cell_type": "code",
   "execution_count": 15,
   "metadata": {},
   "outputs": [
    {
     "data": {
      "text/plain": [
       "0.9999999482793699"
      ]
     },
     "execution_count": 15,
     "metadata": {},
     "output_type": "execute_result"
    }
   ],
   "source": [
    "dt = DecisionTreeRegressor(random_state=0)\n",
    "dt.fit(X_train_prepared, y_train)\n",
    "dt.score(X_train_prepared, y_train)"
   ]
  },
  {
   "cell_type": "code",
   "execution_count": 16,
   "metadata": {},
   "outputs": [
    {
     "name": "stdout",
     "output_type": "stream",
     "text": [
      "Training\n",
      "MSE: 5080.260959723514\n",
      "RMSE: 71.2759493779179\n",
      "MAE: 1.060587531569854\n",
      "R-squared: 0.9999999482793699\n",
      "\n",
      "\n",
      "Validation\n",
      "MSE: 19460542657.864437\n",
      "RMSE: 139501.04894897543\n",
      "MAE: 90685.02985568374\n",
      "R-squared: 0.8011802004210744\n",
      "\n",
      "\n"
     ]
    }
   ],
   "source": [
    "assess_model(dt, 'Decision Tree Regressor')"
   ]
  },
  {
   "cell_type": "markdown",
   "metadata": {},
   "source": [
    "Since decision tree gives an overfit model, we try random forest to address this issue and to reduce the variance. Random forest will split the training data into multiple samples with replacement (bootstrap sample) and then makes a tree for each bootstrap sample with feature randomization. The majority vote will be the final result."
   ]
  },
  {
   "cell_type": "markdown",
   "metadata": {},
   "source": [
    "### 4. Random Forest"
   ]
  },
  {
   "cell_type": "code",
   "execution_count": 17,
   "metadata": {},
   "outputs": [
    {
     "data": {
      "text/plain": [
       "RandomForestRegressor(random_state=22)"
      ]
     },
     "execution_count": 17,
     "metadata": {},
     "output_type": "execute_result"
    }
   ],
   "source": [
    "rf = RandomForestRegressor(random_state=22)\n",
    "rf.fit(X_train_prepared, y_train)"
   ]
  },
  {
   "cell_type": "code",
   "execution_count": 18,
   "metadata": {
    "scrolled": false
   },
   "outputs": [
    {
     "name": "stdout",
     "output_type": "stream",
     "text": [
      "Training\n",
      "MSE: 1362925494.1739726\n",
      "RMSE: 36917.820821034016\n",
      "MAE: 23577.84752640643\n",
      "R-squared: 0.9861244597791883\n",
      "\n",
      "\n",
      "Validation\n",
      "MSE: 9184055656.095436\n",
      "RMSE: 95833.47878531508\n",
      "MAE: 62224.82474005549\n",
      "R-squared: 0.9061705453455751\n",
      "\n",
      "\n"
     ]
    }
   ],
   "source": [
    "assess_model(rf, 'Random Forest Regressor')"
   ]
  },
  {
   "cell_type": "markdown",
   "metadata": {},
   "source": [
    "### 4.1 Random Forest - Tuned (FINAL MODEL)"
   ]
  },
  {
   "cell_type": "code",
   "execution_count": 19,
   "metadata": {},
   "outputs": [
    {
     "data": {
      "text/plain": [
       "RandomForestRegressor(min_samples_leaf=9, random_state=22)"
      ]
     },
     "execution_count": 19,
     "metadata": {},
     "output_type": "execute_result"
    }
   ],
   "source": [
    "rf = RandomForestRegressor(min_samples_leaf=9, random_state=22)\n",
    "rf.fit(X_train_prepared, y_train)"
   ]
  },
  {
   "cell_type": "code",
   "execution_count": 20,
   "metadata": {
    "scrolled": true
   },
   "outputs": [
    {
     "name": "stdout",
     "output_type": "stream",
     "text": [
      "Training\n",
      "MSE: 6379519830.009168\n",
      "RMSE: 79871.89637168488\n",
      "MAE: 51589.82673902104\n",
      "R-squared: 0.9350520007372763\n",
      "\n",
      "\n",
      "Validation\n",
      "MSE: 9609771150.337467\n",
      "RMSE: 98029.44022250391\n",
      "MAE: 64903.55644271399\n",
      "R-squared: 0.9018211975020483\n",
      "\n",
      "\n"
     ]
    }
   ],
   "source": [
    "assess_model(rf, 'Random Forest Regressor - Tuned')"
   ]
  },
  {
   "cell_type": "markdown",
   "metadata": {},
   "source": [
    "### 5. Voting Regressor"
   ]
  },
  {
   "cell_type": "code",
   "execution_count": 21,
   "metadata": {},
   "outputs": [],
   "source": [
    "from sklearn.ensemble import VotingRegressor"
   ]
  },
  {
   "cell_type": "code",
   "execution_count": 23,
   "metadata": {},
   "outputs": [],
   "source": [
    "ridge = Ridge()"
   ]
  },
  {
   "cell_type": "code",
   "execution_count": 24,
   "metadata": {},
   "outputs": [],
   "source": [
    "estimators = [\n",
    "    ('lin_reg', lin_reg),\n",
    "    ('ridge', ridge),\n",
    "    ('dt', dt),\n",
    "    ('rf', rf),\n",
    "]"
   ]
  },
  {
   "cell_type": "code",
   "execution_count": 25,
   "metadata": {},
   "outputs": [
    {
     "data": {
      "text/plain": [
       "VotingRegressor(estimators=[('lin_reg', LinearRegression()), ('ridge', Ridge()),\n",
       "                            ('dt', DecisionTreeRegressor(random_state=0)),\n",
       "                            ('rf',\n",
       "                             RandomForestRegressor(min_samples_leaf=9,\n",
       "                                                   random_state=22))])"
      ]
     },
     "execution_count": 25,
     "metadata": {},
     "output_type": "execute_result"
    }
   ],
   "source": [
    "np.random.seed(22)\n",
    "voting_reg = VotingRegressor(\n",
    "    estimators=estimators\n",
    ")\n",
    "\n",
    "voting_reg.fit(X_train_prepared, y_train.ravel())"
   ]
  },
  {
   "cell_type": "code",
   "execution_count": 26,
   "metadata": {},
   "outputs": [
    {
     "name": "stdout",
     "output_type": "stream",
     "text": [
      "Training\n",
      "MSE: 7503408623.100947\n",
      "RMSE: 86622.21783757876\n",
      "MAE: 63729.068701049015\n",
      "R-squared: 0.9236100222733575\n",
      "\n",
      "\n",
      "Validation\n",
      "MSE: 12375408885.699015\n",
      "RMSE: 111244.81509580127\n",
      "MAE: 79820.60966932541\n",
      "R-squared: 0.873565893941421\n",
      "\n",
      "\n"
     ]
    }
   ],
   "source": [
    "assess_model(voting_reg, 'Voting Regressor')"
   ]
  },
  {
   "cell_type": "markdown",
   "metadata": {},
   "source": [
    "### Model Assessment"
   ]
  },
  {
   "cell_type": "code",
   "execution_count": 27,
   "metadata": {},
   "outputs": [
    {
     "data": {
      "text/html": [
       "<div>\n",
       "<style scoped>\n",
       "    .dataframe tbody tr th:only-of-type {\n",
       "        vertical-align: middle;\n",
       "    }\n",
       "\n",
       "    .dataframe tbody tr th {\n",
       "        vertical-align: top;\n",
       "    }\n",
       "\n",
       "    .dataframe thead th {\n",
       "        text-align: right;\n",
       "    }\n",
       "</style>\n",
       "<table border=\"1\" class=\"dataframe\">\n",
       "  <thead>\n",
       "    <tr style=\"text-align: right;\">\n",
       "      <th></th>\n",
       "      <th>Model</th>\n",
       "      <th>Set</th>\n",
       "      <th>MSE</th>\n",
       "      <th>RMSE</th>\n",
       "      <th>MAE</th>\n",
       "      <th>R2</th>\n",
       "    </tr>\n",
       "  </thead>\n",
       "  <tbody>\n",
       "    <tr>\n",
       "      <th>0</th>\n",
       "      <td>Linear Regression</td>\n",
       "      <td>Training</td>\n",
       "      <td>1.964586e+10</td>\n",
       "      <td>140163.698101</td>\n",
       "      <td>105798.959557</td>\n",
       "      <td>0.799991</td>\n",
       "    </tr>\n",
       "    <tr>\n",
       "      <th>1</th>\n",
       "      <td>Linear Regression</td>\n",
       "      <td>Validation</td>\n",
       "      <td>1.903100e+10</td>\n",
       "      <td>137952.880164</td>\n",
       "      <td>103853.831486</td>\n",
       "      <td>0.805569</td>\n",
       "    </tr>\n",
       "    <tr>\n",
       "      <th>2</th>\n",
       "      <td>Polynomial Regression</td>\n",
       "      <td>Training</td>\n",
       "      <td>1.390670e+10</td>\n",
       "      <td>117926.655684</td>\n",
       "      <td>85250.784951</td>\n",
       "      <td>0.858420</td>\n",
       "    </tr>\n",
       "    <tr>\n",
       "      <th>3</th>\n",
       "      <td>Polynomial Regression</td>\n",
       "      <td>Validation</td>\n",
       "      <td>1.385291e+10</td>\n",
       "      <td>117698.383196</td>\n",
       "      <td>85586.614825</td>\n",
       "      <td>0.858471</td>\n",
       "    </tr>\n",
       "    <tr>\n",
       "      <th>4</th>\n",
       "      <td>Decision Tree Regressor</td>\n",
       "      <td>Training</td>\n",
       "      <td>5.080261e+03</td>\n",
       "      <td>71.275949</td>\n",
       "      <td>1.060588</td>\n",
       "      <td>1.000000</td>\n",
       "    </tr>\n",
       "    <tr>\n",
       "      <th>5</th>\n",
       "      <td>Decision Tree Regressor</td>\n",
       "      <td>Validation</td>\n",
       "      <td>1.946054e+10</td>\n",
       "      <td>139501.048949</td>\n",
       "      <td>90685.029856</td>\n",
       "      <td>0.801180</td>\n",
       "    </tr>\n",
       "    <tr>\n",
       "      <th>6</th>\n",
       "      <td>Random Forest Regressor</td>\n",
       "      <td>Training</td>\n",
       "      <td>1.362925e+09</td>\n",
       "      <td>36917.820821</td>\n",
       "      <td>23577.847526</td>\n",
       "      <td>0.986124</td>\n",
       "    </tr>\n",
       "    <tr>\n",
       "      <th>7</th>\n",
       "      <td>Random Forest Regressor</td>\n",
       "      <td>Validation</td>\n",
       "      <td>9.184056e+09</td>\n",
       "      <td>95833.478785</td>\n",
       "      <td>62224.824740</td>\n",
       "      <td>0.906171</td>\n",
       "    </tr>\n",
       "    <tr>\n",
       "      <th>8</th>\n",
       "      <td>Random Forest Regressor - Tuned</td>\n",
       "      <td>Training</td>\n",
       "      <td>6.379520e+09</td>\n",
       "      <td>79871.896372</td>\n",
       "      <td>51589.826739</td>\n",
       "      <td>0.935052</td>\n",
       "    </tr>\n",
       "    <tr>\n",
       "      <th>9</th>\n",
       "      <td>Random Forest Regressor - Tuned</td>\n",
       "      <td>Validation</td>\n",
       "      <td>9.609771e+09</td>\n",
       "      <td>98029.440223</td>\n",
       "      <td>64903.556443</td>\n",
       "      <td>0.901821</td>\n",
       "    </tr>\n",
       "    <tr>\n",
       "      <th>10</th>\n",
       "      <td>Voting Regressor</td>\n",
       "      <td>Training</td>\n",
       "      <td>7.503409e+09</td>\n",
       "      <td>86622.217838</td>\n",
       "      <td>63729.068701</td>\n",
       "      <td>0.923610</td>\n",
       "    </tr>\n",
       "    <tr>\n",
       "      <th>11</th>\n",
       "      <td>Voting Regressor</td>\n",
       "      <td>Validation</td>\n",
       "      <td>1.237541e+10</td>\n",
       "      <td>111244.815096</td>\n",
       "      <td>79820.609669</td>\n",
       "      <td>0.873566</td>\n",
       "    </tr>\n",
       "  </tbody>\n",
       "</table>\n",
       "</div>"
      ],
      "text/plain": [
       "                              Model         Set           MSE           RMSE  \\\n",
       "0                 Linear Regression    Training  1.964586e+10  140163.698101   \n",
       "1                 Linear Regression  Validation  1.903100e+10  137952.880164   \n",
       "2             Polynomial Regression    Training  1.390670e+10  117926.655684   \n",
       "3             Polynomial Regression  Validation  1.385291e+10  117698.383196   \n",
       "4           Decision Tree Regressor    Training  5.080261e+03      71.275949   \n",
       "5           Decision Tree Regressor  Validation  1.946054e+10  139501.048949   \n",
       "6           Random Forest Regressor    Training  1.362925e+09   36917.820821   \n",
       "7           Random Forest Regressor  Validation  9.184056e+09   95833.478785   \n",
       "8   Random Forest Regressor - Tuned    Training  6.379520e+09   79871.896372   \n",
       "9   Random Forest Regressor - Tuned  Validation  9.609771e+09   98029.440223   \n",
       "10                 Voting Regressor    Training  7.503409e+09   86622.217838   \n",
       "11                 Voting Regressor  Validation  1.237541e+10  111244.815096   \n",
       "\n",
       "              MAE        R2  \n",
       "0   105798.959557  0.799991  \n",
       "1   103853.831486  0.805569  \n",
       "2    85250.784951  0.858420  \n",
       "3    85586.614825  0.858471  \n",
       "4        1.060588  1.000000  \n",
       "5    90685.029856  0.801180  \n",
       "6    23577.847526  0.986124  \n",
       "7    62224.824740  0.906171  \n",
       "8    51589.826739  0.935052  \n",
       "9    64903.556443  0.901821  \n",
       "10   63729.068701  0.923610  \n",
       "11   79820.609669  0.873566  "
      ]
     },
     "execution_count": 27,
     "metadata": {},
     "output_type": "execute_result"
    }
   ],
   "source": [
    "# Store all assessment results in a dataframe\n",
    "df_model_result = pd.DataFrame(data=model_assessment, columns=['Model', 'Set', 'MSE', 'RMSE', 'MAE', 'R2'])\n",
    "df_model_result"
   ]
  },
  {
   "cell_type": "code",
   "execution_count": 28,
   "metadata": {},
   "outputs": [
    {
     "data": {
      "text/html": [
       "<div>\n",
       "<style scoped>\n",
       "    .dataframe tbody tr th:only-of-type {\n",
       "        vertical-align: middle;\n",
       "    }\n",
       "\n",
       "    .dataframe tbody tr th {\n",
       "        vertical-align: top;\n",
       "    }\n",
       "\n",
       "    .dataframe thead th {\n",
       "        text-align: right;\n",
       "    }\n",
       "</style>\n",
       "<table border=\"1\" class=\"dataframe\">\n",
       "  <thead>\n",
       "    <tr style=\"text-align: right;\">\n",
       "      <th></th>\n",
       "      <th>Model</th>\n",
       "      <th>Set</th>\n",
       "      <th>MSE</th>\n",
       "      <th>RMSE</th>\n",
       "      <th>MAE</th>\n",
       "      <th>R2</th>\n",
       "    </tr>\n",
       "  </thead>\n",
       "  <tbody>\n",
       "    <tr>\n",
       "      <th>1</th>\n",
       "      <td>Linear Regression</td>\n",
       "      <td>Validation</td>\n",
       "      <td>1.903100e+10</td>\n",
       "      <td>137952.880164</td>\n",
       "      <td>103853.831486</td>\n",
       "      <td>0.805569</td>\n",
       "    </tr>\n",
       "    <tr>\n",
       "      <th>3</th>\n",
       "      <td>Polynomial Regression</td>\n",
       "      <td>Validation</td>\n",
       "      <td>1.385291e+10</td>\n",
       "      <td>117698.383196</td>\n",
       "      <td>85586.614825</td>\n",
       "      <td>0.858471</td>\n",
       "    </tr>\n",
       "    <tr>\n",
       "      <th>5</th>\n",
       "      <td>Decision Tree Regressor</td>\n",
       "      <td>Validation</td>\n",
       "      <td>1.946054e+10</td>\n",
       "      <td>139501.048949</td>\n",
       "      <td>90685.029856</td>\n",
       "      <td>0.801180</td>\n",
       "    </tr>\n",
       "    <tr>\n",
       "      <th>7</th>\n",
       "      <td>Random Forest Regressor</td>\n",
       "      <td>Validation</td>\n",
       "      <td>9.184056e+09</td>\n",
       "      <td>95833.478785</td>\n",
       "      <td>62224.824740</td>\n",
       "      <td>0.906171</td>\n",
       "    </tr>\n",
       "    <tr>\n",
       "      <th>9</th>\n",
       "      <td>Random Forest Regressor - Tuned</td>\n",
       "      <td>Validation</td>\n",
       "      <td>9.609771e+09</td>\n",
       "      <td>98029.440223</td>\n",
       "      <td>64903.556443</td>\n",
       "      <td>0.901821</td>\n",
       "    </tr>\n",
       "    <tr>\n",
       "      <th>11</th>\n",
       "      <td>Voting Regressor</td>\n",
       "      <td>Validation</td>\n",
       "      <td>1.237541e+10</td>\n",
       "      <td>111244.815096</td>\n",
       "      <td>79820.609669</td>\n",
       "      <td>0.873566</td>\n",
       "    </tr>\n",
       "  </tbody>\n",
       "</table>\n",
       "</div>"
      ],
      "text/plain": [
       "                              Model         Set           MSE           RMSE  \\\n",
       "1                 Linear Regression  Validation  1.903100e+10  137952.880164   \n",
       "3             Polynomial Regression  Validation  1.385291e+10  117698.383196   \n",
       "5           Decision Tree Regressor  Validation  1.946054e+10  139501.048949   \n",
       "7           Random Forest Regressor  Validation  9.184056e+09   95833.478785   \n",
       "9   Random Forest Regressor - Tuned  Validation  9.609771e+09   98029.440223   \n",
       "11                 Voting Regressor  Validation  1.237541e+10  111244.815096   \n",
       "\n",
       "              MAE        R2  \n",
       "1   103853.831486  0.805569  \n",
       "3    85586.614825  0.858471  \n",
       "5    90685.029856  0.801180  \n",
       "7    62224.824740  0.906171  \n",
       "9    64903.556443  0.901821  \n",
       "11   79820.609669  0.873566  "
      ]
     },
     "execution_count": 28,
     "metadata": {},
     "output_type": "execute_result"
    }
   ],
   "source": [
    "df_model_result[(df_model_result['Set'] == 'Validation')]"
   ]
  },
  {
   "cell_type": "code",
   "execution_count": 29,
   "metadata": {
    "scrolled": false
   },
   "outputs": [
    {
     "data": {
      "image/png": "[encoded data removed]",
      "text/plain": [
       "<Figure size 432x288 with 1 Axes>"
      ]
     },
     "metadata": {
      "needs_background": "light"
     },
     "output_type": "display_data"
    }
   ],
   "source": [
    "sns.barplot(data=df_model_result[(df_model_result['Set'] == 'Validation')].sort_values(by='MAE'),\n",
    "            x='MAE', y='Model')\n",
    "plt.title('MAE of Each Model in Validation Set')\n",
    "plt.savefig('../Model/Model_with Final Model RF.png')\n",
    "plt.show()"
   ]
  },
  {
   "cell_type": "markdown",
   "metadata": {},
   "source": [
    "### Cross Validation"
   ]
  },
  {
   "cell_type": "code",
   "execution_count": 30,
   "metadata": {},
   "outputs": [
    {
     "name": "stdout",
     "output_type": "stream",
     "text": [
      "Training Cross Validation Scores\n",
      "Mean : 0.8918797146486283\n",
      "Std : 0.0025948060299621468\n"
     ]
    }
   ],
   "source": [
    "scores_train = cross_val_score(rf, X_train_prepared, y_train, cv=5, scoring='r2')\n",
    "print('Training Cross Validation Scores')\n",
    "print('Mean :', scores_train.mean())\n",
    "print('Std :', scores_train.std())"
   ]
  },
  {
   "cell_type": "markdown",
   "metadata": {},
   "source": [
    "### Hyperparameter Tuning for Random Forest Regressor"
   ]
  },
  {
   "cell_type": "code",
   "execution_count": 31,
   "metadata": {},
   "outputs": [],
   "source": [
    "from sklearn.model_selection import GridSearchCV, RandomizedSearchCV"
   ]
  },
  {
   "cell_type": "code",
   "execution_count": 32,
   "metadata": {},
   "outputs": [
    {
     "data": {
      "text/plain": [
       "RandomForestRegressor(max_depth=20, max_features='sqrt', min_samples_leaf=5,\n",
       "                      min_samples_split=5, n_estimators=350, random_state=22)"
      ]
     },
     "execution_count": 32,
     "metadata": {},
     "output_type": "execute_result"
    }
   ],
   "source": [
    "rf_parameters = {\n",
    "    'max_depth': [None, 3, 5, 7, 9, 11, 13, 20],\n",
    "    'max_features': ['auto', 'sqrt'],\n",
    "    'min_samples_leaf': [5, 9, 10, 15, 20, 25],\n",
    "    'min_samples_split': [1, 5, 9, 10, 15, 20, 25],\n",
    "    'n_estimators': [100, 200, 300, 350],\n",
    "    'bootstrap':[True, False]\n",
    "}\n",
    "\n",
    "rf = RandomForestRegressor(random_state=22)\n",
    "random_rf = RandomizedSearchCV(rf, rf_parameters)\n",
    "random_rf.fit(X_train_prepared, y_train)\n",
    "random_rf.best_estimator_"
   ]
  },
  {
   "cell_type": "code",
   "execution_count": 33,
   "metadata": {},
   "outputs": [
    {
     "name": "stdout",
     "output_type": "stream",
     "text": [
      "Training\n",
      "MSE: 9084844188.604294\n",
      "RMSE: 95314.44900225932\n",
      "MAE: 67034.56048552527\n",
      "R-squared: 0.9075098958250933\n",
      "\n",
      "\n",
      "Validation\n",
      "MSE: 12596146751.499613\n",
      "RMSE: 112232.55655779927\n",
      "MAE: 79089.48934881686\n",
      "R-squared: 0.8713107123152181\n",
      "\n",
      "\n"
     ]
    }
   ],
   "source": [
    "random_rf.best_estimator_.fit(X_train_prepared, y_train)\n",
    "assess_model(random_rf.best_estimator_, 'Random Forest Tuned with RandomizedSearchCV')"
   ]
  },
  {
   "cell_type": "markdown",
   "metadata": {},
   "source": [
    "The Random Forest model resulted from the RandomizedSearchCV does not give a better result compared to the Random Forest we tuned manually before."
   ]
  },
  {
   "cell_type": "code",
   "execution_count": 34,
   "metadata": {},
   "outputs": [],
   "source": [
    "# The GridSearcCV takes a really long time to run and our computers do not have enough capacity to perform it, so we tune the parameters manually.\n",
    "\n",
    "# rf_parameters = {\n",
    "#     'criterion' : ['mse','mae'],\n",
    "#     'max_depth': [3, 5, 7, 9, 11, 13, 20],\n",
    "#     'max_features': ['auto', 'sqrt'],\n",
    "#     'min_samples_leaf': [5, 9, 20, 50, 100],\n",
    "#     'min_samples_split': [5, 9, 20, 50, 100],\n",
    "#     'n_estimators': [10, 50, 100, 200, 300, 350],\n",
    "#     'bootstrap':[True, False]\n",
    "# }\n",
    "\n",
    "# rf = RandomForestRegressor(random_state=22)\n",
    "# grid_rf = GridSearchCV(rf, rf_parameters)\n",
    "# grid_rf.fit(X_train_prepared, y_train)\n",
    "# grid_rf.best_estimator_"
   ]
  },
  {
   "cell_type": "markdown",
   "metadata": {},
   "source": [
    "## Final Model"
   ]
  },
  {
   "cell_type": "markdown",
   "metadata": {},
   "source": [
    "We use Random Forest Regressor as our final model as it gives the best R$^2$ results in both training and validation set and the lowest MAE compared with other models."
   ]
  },
  {
   "cell_type": "markdown",
   "metadata": {},
   "source": [
    "### Merge Training Set with Validation Set"
   ]
  },
  {
   "cell_type": "code",
   "execution_count": 35,
   "metadata": {},
   "outputs": [],
   "source": [
    "# Export df_train and df_test for final model\n",
    "df_train_1 = pd.concat([X_train, y_train], axis=1)\n",
    "df_train_2 = pd.concat([X_val, y_val], axis=1)\n",
    "df_train = pd.concat([df_train_1, df_train_2], axis=0)\n",
    "\n",
    "df_test = pd.concat([X_test, y_test], axis=1)"
   ]
  },
  {
   "cell_type": "code",
   "execution_count": 36,
   "metadata": {},
   "outputs": [],
   "source": [
    "# Export clean df_train to csv\n",
    "df_train.to_csv('../Data/DF_Train.csv', index=False)"
   ]
  },
  {
   "cell_type": "code",
   "execution_count": 37,
   "metadata": {},
   "outputs": [],
   "source": [
    "# Export clean df_test to csv\n",
    "df_test.to_csv('../Data/DF_Test.csv', index=False)"
   ]
  },
  {
   "cell_type": "markdown",
   "metadata": {},
   "source": [
    "### Re-train Model"
   ]
  },
  {
   "cell_type": "code",
   "execution_count": 38,
   "metadata": {},
   "outputs": [
    {
     "data": {
      "text/plain": [
       "Pipeline(steps=[('col_transformer',\n",
       "                 ColumnTransformer(transformers=[('robust_scaler',\n",
       "                                                  RobustScaler(),\n",
       "                                                  ['BATHRM', 'HF_BATHRM',\n",
       "                                                   'ROOMS', 'BEDRM', 'ayb_age',\n",
       "                                                   'eyb_age', 'GBA', 'KITCHENS',\n",
       "                                                   'FIREPLACES', 'LANDAREA',\n",
       "                                                   'LATITUDE', 'LONGITUDE']),\n",
       "                                                 ('onehot_encoder',\n",
       "                                                  OneHotEncoder(handle_unknown='ignore'),\n",
       "                                                  ['AC', 'QUALIFIED', 'WARD',\n",
       "                                                   'QUADRANT', 'HEAT', 'STYLE',\n",
       "                                                   'USECODE']),\n",
       "                                                 ('ordinal_encoder',\n",
       "                                                  OrdinalEncoder(handle_unknown='ignore'),\n",
       "                                                  ['STRUCT', 'GRADE', 'CNDTN',\n",
       "                                                   'ROOF', 'SALEYEAR'])])),\n",
       "                ('rf',\n",
       "                 RandomForestRegressor(min_samples_leaf=9, random_state=22))])"
      ]
     },
     "execution_count": 38,
     "metadata": {},
     "output_type": "execute_result"
    }
   ],
   "source": [
    "# Load the dataset\n",
    "df_train = pd.read_csv('../Data/DF_Train.csv')\n",
    "\n",
    "num_cols = ['BATHRM', 'HF_BATHRM', 'ROOMS', 'BEDRM','ayb_age', 'eyb_age', 'GBA', 'KITCHENS', 'FIREPLACES', 'LANDAREA', 'LATITUDE', 'LONGITUDE']\n",
    "onehot_cols = ['AC', 'QUALIFIED', 'WARD', 'QUADRANT', 'HEAT', 'STYLE', 'USECODE']\n",
    "ordinal_cols = ['STRUCT', 'GRADE', 'CNDTN', 'ROOF', 'SALEYEAR']\n",
    "label = ['PRICE']\n",
    "\n",
    "# Data Pre-processing\n",
    "X_train = df_train[num_cols + onehot_cols + ordinal_cols]\n",
    "y_train = df_train['PRICE']\n",
    "\n",
    "col_transformer = ColumnTransformer([\n",
    "    ('robust_scaler', RobustScaler(), num_cols),\n",
    "    ('onehot_encoder', OneHotEncoder(handle_unknown='ignore'), onehot_cols),\n",
    "    ('ordinal_encoder', OrdinalEncoder(handle_unknown='ignore'), ordinal_cols)\n",
    "])\n",
    "\n",
    "full_pipeline = Pipeline([('col_transformer', col_transformer),\n",
    "                          ('rf', RandomForestRegressor(min_samples_leaf=9, random_state=22))])\n",
    "\n",
    "# Re-train the model\n",
    "full_pipeline.fit(X_train, y_train)"
   ]
  },
  {
   "cell_type": "code",
   "execution_count": 39,
   "metadata": {
    "scrolled": true
   },
   "outputs": [
    {
     "name": "stdout",
     "output_type": "stream",
     "text": [
      "MSE: 6180056628.223952\n",
      "RMSE: 78613.33619828096\n",
      "MAE: 50651.09782310277\n",
      "R-squared: 0.9370439527178637\n",
      "\n",
      "\n"
     ]
    }
   ],
   "source": [
    "y_pred = full_pipeline.predict(X_train)\n",
    "print('MSE: {}'.format(mean_squared_error(y_train, y_pred)))\n",
    "print('RMSE: {}'.format(np.sqrt(mean_squared_error(y_train, y_pred))))\n",
    "print('MAE: {}'.format(mean_absolute_error(y_train, y_pred)))\n",
    "print('R-squared: {}'.format(r2_score(y_train, y_pred)))\n",
    "print('\\n')"
   ]
  },
  {
   "cell_type": "code",
   "execution_count": 40,
   "metadata": {},
   "outputs": [
    {
     "name": "stderr",
     "output_type": "stream",
     "text": [
      "C:\\anaconda\\lib\\site-packages\\seaborn\\distributions.py:2551: FutureWarning: `distplot` is a deprecated function and will be removed in a future version. Please adapt your code to use either `displot` (a figure-level function with similar flexibility) or `kdeplot` (an axes-level function for kernel density plots).\n",
      "  warnings.warn(msg, FutureWarning)\n",
      "C:\\anaconda\\lib\\site-packages\\seaborn\\distributions.py:2551: FutureWarning: `distplot` is a deprecated function and will be removed in a future version. Please adapt your code to use either `displot` (a figure-level function with similar flexibility) or `kdeplot` (an axes-level function for kernel density plots).\n",
      "  warnings.warn(msg, FutureWarning)\n"
     ]
    },
    {
     "data": {
      "image/png": "[encoded data removed]",
      "text/plain": [
       "<Figure size 432x432 with 1 Axes>"
      ]
     },
     "metadata": {
      "needs_background": "light"
     },
     "output_type": "display_data"
    }
   ],
   "source": [
    "# Distribution plot\n",
    "plt.figure(figsize=(6, 6))\n",
    "\n",
    "ax1 = sns.distplot(y_train, hist=False, color=\"r\", label=\"Actual Value\")\n",
    "sns.distplot(y_pred, hist=False, color=\"b\", label=\"Fitted Values\" , ax=ax1)\n",
    "\n",
    "plt.title('Actual vs Fitted Values for House Price')\n",
    "plt.xlabel('Price')\n",
    "plt.ylabel('Proportion of Houses')\n",
    "\n",
    "plt.legend()\n",
    "plt.show()\n",
    "plt.close()"
   ]
  },
  {
   "cell_type": "code",
   "execution_count": 41,
   "metadata": {},
   "outputs": [
    {
     "data": {
      "text/html": [
       "<div>\n",
       "<style scoped>\n",
       "    .dataframe tbody tr th:only-of-type {\n",
       "        vertical-align: middle;\n",
       "    }\n",
       "\n",
       "    .dataframe tbody tr th {\n",
       "        vertical-align: top;\n",
       "    }\n",
       "\n",
       "    .dataframe thead th {\n",
       "        text-align: right;\n",
       "    }\n",
       "</style>\n",
       "<table border=\"1\" class=\"dataframe\">\n",
       "  <thead>\n",
       "    <tr style=\"text-align: right;\">\n",
       "      <th></th>\n",
       "      <th>Actual</th>\n",
       "      <th>Prediction</th>\n",
       "      <th>Error</th>\n",
       "    </tr>\n",
       "  </thead>\n",
       "  <tbody>\n",
       "    <tr>\n",
       "      <th>0</th>\n",
       "      <td>210000.0</td>\n",
       "      <td>184665.564070</td>\n",
       "      <td>-25334.435930</td>\n",
       "    </tr>\n",
       "    <tr>\n",
       "      <th>1</th>\n",
       "      <td>250000.0</td>\n",
       "      <td>287662.253555</td>\n",
       "      <td>37662.253555</td>\n",
       "    </tr>\n",
       "    <tr>\n",
       "      <th>2</th>\n",
       "      <td>685000.0</td>\n",
       "      <td>689997.856505</td>\n",
       "      <td>4997.856505</td>\n",
       "    </tr>\n",
       "    <tr>\n",
       "      <th>3</th>\n",
       "      <td>798500.0</td>\n",
       "      <td>835975.011562</td>\n",
       "      <td>37475.011562</td>\n",
       "    </tr>\n",
       "    <tr>\n",
       "      <th>4</th>\n",
       "      <td>350000.0</td>\n",
       "      <td>370332.835328</td>\n",
       "      <td>20332.835328</td>\n",
       "    </tr>\n",
       "    <tr>\n",
       "      <th>...</th>\n",
       "      <td>...</td>\n",
       "      <td>...</td>\n",
       "      <td>...</td>\n",
       "    </tr>\n",
       "    <tr>\n",
       "      <th>45671</th>\n",
       "      <td>250000.0</td>\n",
       "      <td>243375.967982</td>\n",
       "      <td>-6624.032018</td>\n",
       "    </tr>\n",
       "    <tr>\n",
       "      <th>45672</th>\n",
       "      <td>500000.0</td>\n",
       "      <td>546777.624968</td>\n",
       "      <td>46777.624968</td>\n",
       "    </tr>\n",
       "    <tr>\n",
       "      <th>45673</th>\n",
       "      <td>505000.0</td>\n",
       "      <td>529445.197651</td>\n",
       "      <td>24445.197651</td>\n",
       "    </tr>\n",
       "    <tr>\n",
       "      <th>45674</th>\n",
       "      <td>585000.0</td>\n",
       "      <td>594850.699841</td>\n",
       "      <td>9850.699841</td>\n",
       "    </tr>\n",
       "    <tr>\n",
       "      <th>45675</th>\n",
       "      <td>160000.0</td>\n",
       "      <td>167654.466612</td>\n",
       "      <td>7654.466612</td>\n",
       "    </tr>\n",
       "  </tbody>\n",
       "</table>\n",
       "<p>45676 rows × 3 columns</p>\n",
       "</div>"
      ],
      "text/plain": [
       "         Actual     Prediction         Error\n",
       "0      210000.0  184665.564070 -25334.435930\n",
       "1      250000.0  287662.253555  37662.253555\n",
       "2      685000.0  689997.856505   4997.856505\n",
       "3      798500.0  835975.011562  37475.011562\n",
       "4      350000.0  370332.835328  20332.835328\n",
       "...         ...            ...           ...\n",
       "45671  250000.0  243375.967982  -6624.032018\n",
       "45672  500000.0  546777.624968  46777.624968\n",
       "45673  505000.0  529445.197651  24445.197651\n",
       "45674  585000.0  594850.699841   9850.699841\n",
       "45675  160000.0  167654.466612   7654.466612\n",
       "\n",
       "[45676 rows x 3 columns]"
      ]
     },
     "execution_count": 41,
     "metadata": {},
     "output_type": "execute_result"
    }
   ],
   "source": [
    "df_results = pd.DataFrame({\n",
    "    'Actual': y_train.tolist(),\n",
    "    'Prediction': y_pred.tolist()\n",
    "})\n",
    "\n",
    "df_results['Error'] = df_results['Prediction'] - df_results['Actual']\n",
    "df_results"
   ]
  },
  {
   "cell_type": "code",
   "execution_count": 42,
   "metadata": {},
   "outputs": [
    {
     "data": {
      "text/html": [
       "<div>\n",
       "<style scoped>\n",
       "    .dataframe tbody tr th:only-of-type {\n",
       "        vertical-align: middle;\n",
       "    }\n",
       "\n",
       "    .dataframe tbody tr th {\n",
       "        vertical-align: top;\n",
       "    }\n",
       "\n",
       "    .dataframe thead th {\n",
       "        text-align: right;\n",
       "    }\n",
       "</style>\n",
       "<table border=\"1\" class=\"dataframe\">\n",
       "  <thead>\n",
       "    <tr style=\"text-align: right;\">\n",
       "      <th></th>\n",
       "      <th>Error</th>\n",
       "    </tr>\n",
       "  </thead>\n",
       "  <tbody>\n",
       "    <tr>\n",
       "      <th>count</th>\n",
       "      <td>4.567600e+04</td>\n",
       "    </tr>\n",
       "    <tr>\n",
       "      <th>mean</th>\n",
       "      <td>6.105634e+01</td>\n",
       "    </tr>\n",
       "    <tr>\n",
       "      <th>std</th>\n",
       "      <td>7.861417e+04</td>\n",
       "    </tr>\n",
       "    <tr>\n",
       "      <th>min</th>\n",
       "      <td>-6.744677e+05</td>\n",
       "    </tr>\n",
       "    <tr>\n",
       "      <th>25%</th>\n",
       "      <td>-3.082654e+04</td>\n",
       "    </tr>\n",
       "    <tr>\n",
       "      <th>50%</th>\n",
       "      <td>9.878849e+02</td>\n",
       "    </tr>\n",
       "    <tr>\n",
       "      <th>75%</th>\n",
       "      <td>3.256383e+04</td>\n",
       "    </tr>\n",
       "    <tr>\n",
       "      <th>max</th>\n",
       "      <td>1.053822e+06</td>\n",
       "    </tr>\n",
       "  </tbody>\n",
       "</table>\n",
       "</div>"
      ],
      "text/plain": [
       "              Error\n",
       "count  4.567600e+04\n",
       "mean   6.105634e+01\n",
       "std    7.861417e+04\n",
       "min   -6.744677e+05\n",
       "25%   -3.082654e+04\n",
       "50%    9.878849e+02\n",
       "75%    3.256383e+04\n",
       "max    1.053822e+06"
      ]
     },
     "execution_count": 42,
     "metadata": {},
     "output_type": "execute_result"
    }
   ],
   "source": [
    "df_results[['Error']].describe()"
   ]
  },
  {
   "cell_type": "code",
   "execution_count": 43,
   "metadata": {},
   "outputs": [
    {
     "name": "stderr",
     "output_type": "stream",
     "text": [
      "C:\\anaconda\\lib\\site-packages\\seaborn\\_decorators.py:36: FutureWarning: Pass the following variable as a keyword arg: x. From version 0.12, the only valid positional argument will be `data`, and passing other arguments without an explicit keyword will result in an error or misinterpretation.\n",
      "  warnings.warn(\n"
     ]
    },
    {
     "data": {
      "text/plain": [
       "<AxesSubplot:xlabel='Error'>"
      ]
     },
     "execution_count": 43,
     "metadata": {},
     "output_type": "execute_result"
    },
    {
     "data": {
      "image/png": "[encoded data removed]",
      "text/plain": [
       "<Figure size 432x288 with 1 Axes>"
      ]
     },
     "metadata": {
      "needs_background": "light"
     },
     "output_type": "display_data"
    }
   ],
   "source": [
    "sns.boxplot(df_results['Error'])"
   ]
  },
  {
   "cell_type": "code",
   "execution_count": 44,
   "metadata": {},
   "outputs": [
    {
     "name": "stderr",
     "output_type": "stream",
     "text": [
      "C:\\anaconda\\lib\\site-packages\\seaborn\\distributions.py:2551: FutureWarning: `distplot` is a deprecated function and will be removed in a future version. Please adapt your code to use either `displot` (a figure-level function with similar flexibility) or `histplot` (an axes-level function for histograms).\n",
      "  warnings.warn(msg, FutureWarning)\n"
     ]
    },
    {
     "data": {
      "image/png": "[encoded data removed]",
      "text/plain": [
       "<Figure size 432x288 with 1 Axes>"
      ]
     },
     "metadata": {
      "needs_background": "light"
     },
     "output_type": "display_data"
    }
   ],
   "source": [
    "sns.distplot(df_results['Error'])\n",
    "plt.title(\"The Distribution of Error\")\n",
    "plt.show()"
   ]
  },
  {
   "cell_type": "code",
   "execution_count": 45,
   "metadata": {},
   "outputs": [
    {
     "data": {
      "image/png": "[encoded data removed]",
      "text/plain": [
       "<Figure size 432x288 with 1 Axes>"
      ]
     },
     "metadata": {
      "needs_background": "light"
     },
     "output_type": "display_data"
    }
   ],
   "source": [
    "# Residual Analysis\n",
    "sns.scatterplot(x='Prediction', y='Actual', data=df_results)\n",
    "plt.title(\"Actual vs Prediction\")\n",
    "plt.show()"
   ]
  },
  {
   "cell_type": "markdown",
   "metadata": {},
   "source": [
    "From the analysis results above, we can see that there are many outliers in residuals, so we decide to use MAE as our standard error instead of RMSE as RMSE is very sensitive to outliers. "
   ]
  },
  {
   "cell_type": "code",
   "execution_count": 47,
   "metadata": {},
   "outputs": [
    {
     "name": "stdout",
     "output_type": "stream",
     "text": [
      "Training Cross Validation Scores\n",
      "Mean : 0.8953048264529014\n",
      "Std : 0.003439231915167756\n"
     ]
    }
   ],
   "source": [
    "scores_train = cross_val_score(full_pipeline, X_train, y_train, cv=5, scoring='r2', error_score=\"raise\")\n",
    "print('Training Cross Validation Scores')\n",
    "print('Mean :', scores_train.mean())\n",
    "print('Std :', scores_train.std())"
   ]
  },
  {
   "cell_type": "markdown",
   "metadata": {},
   "source": [
    "### Evaluate Model"
   ]
  },
  {
   "cell_type": "code",
   "execution_count": 48,
   "metadata": {},
   "outputs": [
    {
     "name": "stdout",
     "output_type": "stream",
     "text": [
      "MSE: 9434835097.249817\n",
      "RMSE: 97133.07931518396\n",
      "MAE: 64606.78958005027\n",
      "R-squared: 0.9031126813048068\n",
      "\n",
      "\n"
     ]
    }
   ],
   "source": [
    "df_test = pd.read_csv('../Data/DF_Test.csv')\n",
    "\n",
    "X_test = df_test.drop('PRICE', axis=1)\n",
    "y_test = df_test['PRICE']\n",
    "\n",
    "y_pred = full_pipeline.predict(X_test)\n",
    "print('MSE: {}'.format(mean_squared_error(y_test, y_pred)))\n",
    "print('RMSE: {}'.format(np.sqrt(mean_squared_error(y_test, y_pred))))\n",
    "print('MAE: {}'.format(mean_absolute_error(y_test, y_pred)))\n",
    "print('R-squared: {}'.format(r2_score(y_test, y_pred)))\n",
    "print('\\n')"
   ]
  },
  {
   "cell_type": "code",
   "execution_count": 49,
   "metadata": {},
   "outputs": [
    {
     "name": "stderr",
     "output_type": "stream",
     "text": [
      "C:\\anaconda\\lib\\site-packages\\seaborn\\distributions.py:2551: FutureWarning: `distplot` is a deprecated function and will be removed in a future version. Please adapt your code to use either `displot` (a figure-level function with similar flexibility) or `kdeplot` (an axes-level function for kernel density plots).\n",
      "  warnings.warn(msg, FutureWarning)\n",
      "C:\\anaconda\\lib\\site-packages\\seaborn\\distributions.py:2551: FutureWarning: `distplot` is a deprecated function and will be removed in a future version. Please adapt your code to use either `displot` (a figure-level function with similar flexibility) or `kdeplot` (an axes-level function for kernel density plots).\n",
      "  warnings.warn(msg, FutureWarning)\n"
     ]
    },
    {
     "data": {
      "image/png": "[encoded data removed]",
      "text/plain": [
       "<Figure size 432x432 with 1 Axes>"
      ]
     },
     "metadata": {
      "needs_background": "light"
     },
     "output_type": "display_data"
    }
   ],
   "source": [
    "# Distribution plot\n",
    "plt.figure(figsize=(6, 6))\n",
    "\n",
    "ax1 = sns.distplot(y_test, hist=False, color=\"r\", label=\"Actual Value\")\n",
    "sns.distplot(y_pred, hist=False, color=\"b\", label=\"Fitted Values\" , ax=ax1)\n",
    "\n",
    "plt.title('Actual vs Fitted Values for House Price')\n",
    "plt.xlabel('Price')\n",
    "plt.ylabel('Proportion of Houses')\n",
    "plt.legend()\n",
    "plt.show()\n",
    "plt.close()"
   ]
  },
  {
   "cell_type": "markdown",
   "metadata": {},
   "source": [
    "### Save Model"
   ]
  },
  {
   "cell_type": "code",
   "execution_count": 50,
   "metadata": {},
   "outputs": [],
   "source": [
    "import pickle\n",
    "import warnings\n",
    "warnings.filterwarnings('ignore')\n",
    "\n",
    "# Pickle the model\n",
    "pickle_filename = '../Model/Final_Model_RF.sav'\n",
    "pickle.dump(full_pipeline, open(pickle_filename, 'wb'))"
   ]
  }
 ],
 "metadata": {
  "kernelspec": {
   "display_name": "Python 3",
   "language": "python",
   "name": "python3"
  },
  "language_info": {
   "codemirror_mode": {
    "name": "ipython",
    "version": 3
   },
   "file_extension": ".py",
   "mimetype": "text/x-python",
   "name": "python",
   "nbconvert_exporter": "python",
   "pygments_lexer": "ipython3",
   "version": "3.8.5"
  }
 },
 "nbformat": 4,
 "nbformat_minor": 4
}
