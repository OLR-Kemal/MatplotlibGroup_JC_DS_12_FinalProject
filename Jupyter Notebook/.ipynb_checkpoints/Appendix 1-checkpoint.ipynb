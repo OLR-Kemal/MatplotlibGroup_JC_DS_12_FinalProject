{
 "cells": [
  {
   "cell_type": "markdown",
   "metadata": {
    "id": "PLzKTpGN9QvW"
   },
   "source": [
    "# Appendix 1"
   ]
  },
  {
   "cell_type": "markdown",
   "metadata": {
    "id": "uUKhdJVJ9Qvf"
   },
   "source": [
    "## Background"
   ]
  },
  {
   "cell_type": "markdown",
   "metadata": {
    "id": "GgKMfIhC9Qvg"
   },
   "source": [
    "1. An underwriter is a loan officer who evaluates a loan application to determine whether it is viable for the bank. The underwriter assesses the financial history of a client to check whether they are a risk worth taking. (Reference : https://corporatefinanceinstitute.com/resources/knowledge/credit/who-evaluates-bank-loans/#:~:text=1.,are%20a%20risk%20worth%20taking)\n",
    "\n",
    "2.  An appraisal is conducted by a licensed or certified professional, whose opinion of a home’s value is provided as a disinterested and unbiased third party. In a refinance transaction, the appraisal protects the bank by ensuring that it doesn’t lend the borrower more money than the property is worth. (Referenece : https://www.investopedia.com/articles/personal-finance/042514/home-appraisal-your-key-successful-refinance.asp)\n",
    "\n",
    "3. An Appraisal Management Company, or AMC, is an independent entity through which mortgage lenders order residential real estate valuation services for properties on which they are considering extending loans to homebuyers. AMCs fulfill an administrative function in the appraisal process, including selecting an appraiser and delivering the appraisal report to the lender. (Reference : https://www.investopedia.com/terms/a/appraisal-management-company-amc.asp)\n",
    "\n",
    "4. Federal regulations dictate how lenders and appraisers must behave throughout the appraisal process.﻿ After the housing crisis, the government wanted to increase appraiser independence to prevent the possibility of lending based on inflated home values. The Dodd-Frank Act and the Truth in Lending Act are among the regulations that require that appraisals and evaluations be conducted independently, using established criteria, and be free from outside influence. Because federal appraiser independence requirements define a narrow scope of acceptable interactions between an appraiser and loan officers, lenders are afraid that having any contact with appraisers could be construed as violating the law by attempting to influence the appraiser’s opinion before the appraisal is completed. (Reference : https://www.investopedia.com/articles/personal-finance/042514/home-appraisal-your-key-successful-refinance.asp)\n",
    "\n",
    "5. Appraisal fraud often involves a real estate agent, builder, appraiser, and loan officer working together to maximize a purchase price and loan amount in order to increase their commissions. On the other hand, corrupt appraisers will often undervalue a property to ensure that a fellow investor will be able to purchase the asset. (Reference : https://www.investopedia.com/articles/mortgages-real-estate/10/how-mortgage-fraud-affects-markets.asp#:~:text=Air%20Loan%20vs.-,Appraisal%20Fraud,or%20for%20a%20nonexistent%20borrower.)\n",
    "\n",
    "6. Reference :\n",
    "    - https://birminghamappraisalblog.com/appraisal/top-five-areas-look-mistakes-appraisal/\n",
    "    - https://turbomortgage.com/help-articles/help-my-appraisal-stinks/#:~:text=Appraisers%20Sometimes%20Make%20Mistakes&text=Appraisers%20produce%20%E2%80%9Cappraisals%E2%80%9D%2C%20required,%E2%80%9Cmake%20the%20deal%20go.%E2%80%9D"
   ]
  },
  {
   "cell_type": "markdown",
   "metadata": {
    "id": "6ajlXkRr9Qvi"
   },
   "source": [
    "## I. Problem Identification"
   ]
  },
  {
   "cell_type": "markdown",
   "metadata": {
    "id": "RPnwqP7i9Qvi"
   },
   "source": [
    "7. Reference : https://www.rocketmortgage.com/learn/how-to-buy-a-house \n",
    "\n",
    "8. This is the main concern of the project owner in the bigger picture, however, as the assignment of our case study is a regression case, we will limit the output of our project only to make a value estimation. The decision whether to give the loan to a borrower is out of the scope of this project. \n",
    "\n",
    "9. A Bank will reject the loan application of a borrower with lower appraisal than the offer price, however, there is a risk that may cause the Bank to make a wrong decision and end up giving the loan even though the home value is under appraised. This will result in non-optimal profit gain or even profit loss if the fault is significant (e.g., caused by fraud committed by the appraiser). To illustrate, let’s say the actual value of a home is worth of USD800,000, but because of a fraud committed by the appraiser or unreasonable factor (e.g, the home becomes really trending because the it was previously owned by a famous public figure), the market value becomes ridiculously high, for example, USD3,200,000. If the Bank makes a wrong decision and ends up providing the loan and it turns out the borrower will not be able to pay back the Bank, the Bank will have to seize the property and sell it to get the money back. But if in the future the popularity/trend has faded out, the market value will automatically go back to normal, the Bank will experience great loss. Assuming the loan given to the borrower is 75% of the offer price, it will be USD2,400,000. If the Bank sells the property with normal value ($\\pm$ USD800,000), the Bank will experience a loss roughly about USD1,600,000. (Reference : https://www.wishfin.com/home-loans/can-i-get-100-percent-home-loan/) \n",
    "\n",
    "\n",
    "10. Under appraised is when the appraised value is lower than expected (Reference : https://www.investopedia.com/articles/pf/12/home-appraisals.asp)"
   ]
  },
  {
   "cell_type": "markdown",
   "metadata": {
    "id": "2nJuKn2kBBJB"
   },
   "source": [
    "## II. Data Understanding"
   ]
  },
  {
   "cell_type": "markdown",
   "metadata": {
    "id": "mpXWHR3tBG2h"
   },
   "source": [
    "### Data Pre-Processing"
   ]
  },
  {
   "cell_type": "markdown",
   "metadata": {
    "id": "kt-lWyBDBKob"
   },
   "source": [
    "1. More about Qualified (Reference : http://www.vogelauctions.com/multiparcel.php)\n",
    "\n",
    "\n",
    "2. NATIONALGRID Definition\n",
    "  \n",
    "    - A complete US National Grid (USNG) spatial address provides a unique value and is necessary for use with GPS receivers and Geographical Information Systems (GIS). A complete USNG spatial address contains three parts as we drill down to a unique location, \n",
    "\n",
    "    > 18S UJ 23480647\n",
    "\n",
    "    - Grid Zone Designation (i.e. 18S).\n",
    "    - 100,000-meter Square Identification (i.e. UJ ).\n",
    "    - Grid coordinates of some even number of digits ranging from 2 to 10 (i.e. 23480647  In this case, eight digits identify a place of about the size of a modest home.).  You always read right, then up when plotting coordinates.\n",
    "\n",
    "    - Reference :\n",
    "      - https://www.fgdc.gov/usng/how-to-read-usng/index_html\n",
    "      - https://geodesy.noaa.gov/TOOLS/usng.html\n",
    "     \n",
    "\n",
    "3. Historic Home Definition (Reference : https://www.rocketmortgage.com/learn/buying-a-historic-home)\n",
    "\n",
    "    - To be accepted as a historic property, the home needs to be <u>at least 50 years old</u> (although there are some exceptions) and meet one of four criteria:\n",
    "\n",
    "      - It’s connected to significant, historical events\n",
    "      - It’s connected to the lives of significant individuals\n",
    "      - It’s considered an embodiment of a particular master or historic style\n",
    "      - It has provided or is likely to provide important historical information\n",
    "\n",
    "    - An analysis by realtor.com in 2016 of the National Register of Historic Places found that historic homes were 5.6 percent more expensive than similar-size homes in the same ZIP code. (Reference : https://www.mortgageloan.com/the-higher-costs-of-buying-a-historic-home#:~:text=Higher%20prices%20but%20steady%20values,in%20the%20same%20ZIP%20code).\n",
    "\n",
    "\n",
    "4. MAR Address Standards (Reference :\n",
    "https://octo.dc.gov/sites/default/files/dc/sites/octo/publication/attachments/DCGIS-MarAddressStandards.pdf)"
   ]
  }
 ],
 "metadata": {
  "colab": {
   "collapsed_sections": [],
   "name": "Appendix 1.jpynb.ipynb",
   "provenance": []
  },
  "kernelspec": {
   "display_name": "Python 3",
   "language": "python",
   "name": "python3"
  },
  "language_info": {
   "codemirror_mode": {
    "name": "ipython",
    "version": 3
   },
   "file_extension": ".py",
   "mimetype": "text/x-python",
   "name": "python",
   "nbconvert_exporter": "python",
   "pygments_lexer": "ipython3",
   "version": "3.8.5"
  }
 },
 "nbformat": 4,
 "nbformat_minor": 1
}
