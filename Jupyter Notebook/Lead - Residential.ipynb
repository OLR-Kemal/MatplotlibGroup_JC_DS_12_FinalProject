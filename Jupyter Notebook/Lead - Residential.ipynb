{
 "cells": [
  {
   "cell_type": "markdown",
   "metadata": {
    "id": "_n8jkInTZtau"
   },
   "source": [
    "# Background\n",
    "\n",
    "In this project, we position ourselves as a part of the Data Scientist Team in a Financial Institution, MPL Bank, in Washington DC, USA. We are assigned to work on a project to develop a Machine Learning (ML) solution. The project owner is the Underwriter Team$^1$ of MPL Bank. We will help the Underwriter Team to make an improvement in their process of underwriting, specifically in the process of property appraisal$^2$ and valuation.\n",
    "\n",
    "MPL Bank orders the appraisal through a third party, an appraisal management company (AMC)$^3$, in order to comply with the federal appraiser independence requirements$^4$. However, the appraisal process performed by an external party has a risk of fraud$^5$ or producing erroneous results$^6$. Thus, the project owner wants to address these issues."
   ]
  },
  {
   "cell_type": "markdown",
   "metadata": {
    "id": "Jlrgy0JF4jj5"
   },
   "source": [
    "#### Notes :\n",
    "For details please refer to <a href='Appendix 1.ipynb'>Appendix 1.jpynb</a> and <a href='Appendix 2.ipynb'>Appendix 2.jpynb</a>."
   ]
  },
  {
   "cell_type": "markdown",
   "metadata": {
    "id": "0WPZjhRM137o"
   },
   "source": [
    "# I. Problem Identification\n",
    "\n",
    "## 1. Problem Definition\n",
    "\n",
    "Based on the elicitation process with the project owner, we found that they want to improve the accuracy of their underwriting process, specifically in the process of evaluating the appraisal. In the process of evaluating appraisals, there are some risks that the project owner wants to minimize, such as fraud and erroneous appraisal results given by the AMC. In addition, there is also a problem that often happens regarding the difference between the agreed offer made by a borrower and the property seller and the actual property valuation. Since lenders can’t lend out money more than a property is worth$^7$, all of these risks may cause the project owner to determine wrong appraisal value and to make a wrong decision whether to give the loan to a borrower$^8$.\n",
    "\n",
    "To address these risks and improve their business process, the project owner needs a reliable autonomous system that can provide an estimation value that can be used to compare the value given by the AMC.\n",
    "\n",
    "The expected output of this project is a system that can make an estimation of an accurate and reasonable value (price) for a property based on the aspects of the property by using ML. However, due to the limitation of our time budget, we limit the capability of our model in this project to predict an output only for properties with grade lower than Exceptional, since Exceptional properties have a price range that is very different than the rest of properties with other grades."
   ]
  },
  {
   "cell_type": "markdown",
   "metadata": {
    "id": "ycn6qq7C3bOm"
   },
   "source": [
    "## 2. Business Objectives\n",
    "\n",
    "The business goals that want to be achieved through this project are as follows:\n",
    "- To maximize profit by making the right decision to give a loan with an optimal amount.\n",
    "- To minimize loss and risks of fraud and erroneous valuation$^9$.\n",
    "\n",
    "The ML system that will be built needs to be able to support these objectives by providing more accurate, reasonable, and optimal value estimation of a property.\n"
   ]
  },
  {
   "cell_type": "markdown",
   "metadata": {
    "id": "BSRCXCr43v3Y"
   },
   "source": [
    "## 3. Data Requirements\n",
    "\n",
    "The value that we want to predict is the value (price) of a property. The required information to make a prediction are the features of the property (e.g., gross building area, the number of rooms, the number of bedrooms, etc), the condition of the property, the location, etc."
   ]
  },
  {
   "cell_type": "markdown",
   "metadata": {
    "id": "9ku9idqG34n2"
   },
   "source": [
    "## 4. Analytic Approach\n",
    "### Machine Learning Techniques\n",
    "Since the value (price) that we want to predict is a continuous value, this problem can be addressed with Supervised Learning, more specifically Regression, and the approach to generalization is a model-based learning. We will feed the data in the training set to Regression algorithms which then will tune some parameters to fit the model, and then hopefully it will be able to make good predictions on future/unknown instances.\n",
    "\n",
    "### Risk\n",
    "There are two possible risks that may be caused by wrong prediction from the ML model:\n",
    "- The first scenario is when the actual value of the property is higher than the prediction value (the model gives under appraised$^1$$^0$ value), this could cause MPL Bank to reject giving loan and thus resulting in loss of potential borrower.\n",
    "- The second scenario is when the actual value of the property is lower than prediction value, this could cause MPL Bank to suffer loss when the borrower is unable to pay back the loan.\n",
    "\n",
    "\n",
    "### Performance Measure\n",
    "The performance measures to evaluate the ML model are Mean Squared Error (MSE), Root Mean Squared Error (RMSE), Mean Absolute Error (MAE), Median Absolute Error and the Coefficient of Determination (R$^2$). \n"
   ]
  },
  {
   "cell_type": "markdown",
   "metadata": {
    "id": "wx7Uz3Nf4LWD"
   },
   "source": [
    "## 5. Action\n",
    "The business user can utilize the prediction result by comparing it with the appraisal value given by the AMC to determine a reasonable property value."
   ]
  },
  {
   "cell_type": "markdown",
   "metadata": {
    "id": "W4qgVEd24QNN"
   },
   "source": [
    "## 6. Value\n",
    "\n",
    "The values created from the project are the improvement in the underwriting process and the maximized profit from giving the right appraisal and making the right decision in providing loan.\n",
    "\n",
    "#### Additional Value\n",
    "It is well known that there are a lot of people who treat property market as an investment instrument and there are cases in which an investor and an appraiser collide to lower the property value in order to help the investor to acquire the property. Thus, we hope this project could also protect <b>property owners</b> by providing fair and reliable property valuation prediction.\n"
   ]
  },
  {
   "cell_type": "markdown",
   "metadata": {
    "id": "kcy_ncTzZtav"
   },
   "source": [
    "# II. Data Understanding\n",
    "\n",
    "Please refer to: <a href='EDA - Data Preparation.ipynb'>EDA - Data Preparation.jpynb</a>"
   ]
  },
  {
   "cell_type": "markdown",
   "metadata": {
    "id": "4EGuXYEfZtav"
   },
   "source": [
    "# III. Data Preparation\n",
    "\n",
    "Please refer to: <a href='EDA - Data Preparation.ipynb'>EDA - Data Preparation.jpynb</a>"
   ]
  },
  {
   "cell_type": "markdown",
   "metadata": {
    "id": "AJKcoLqFZtaw"
   },
   "source": [
    "# IV. Modeling\n",
    "\n",
    "Please refer to: <a href='Modeling_Final with CatBoost (without Onehot).ipynb'>Modeling_Final with CatBoost (without Onehot).jpynb</a>"
   ]
  },
  {
   "cell_type": "markdown",
   "metadata": {
    "id": "bEcpFAIrZtaw"
   },
   "source": [
    "# V. Evaluation\n",
    "\n",
    "In this project, we are expected by the business user to make an initial model with  Mean Absolute Error (MAE) metrics below ±12% of the mean property price and Median Absolute Error below ±12% of the median property price.\n",
    "\n",
    "Please refer to: <a href='Modeling_Final with CatBoost (without Onehot).ipynb'>Modeling_Final with CatBoost (without Onehot).jpynb</a>\n",
    "\n"
   ]
  },
  {
   "cell_type": "markdown",
   "metadata": {
    "id": "Ar8EQPz_Ztax"
   },
   "source": [
    "# VI. Deployment & Feedback\n",
    "\n",
    "## 1. Deployment\n",
    "\n",
    "Please refer to: <a href='../Dashboard'>Dashboard Folder</a>\n",
    "\n",
    "## 2. Maintenance Plan\n",
    "\n",
    "We implement batch (offline) learning in our system since we can't obtain new data autonomously. Thus, if we want the system to know about new data, we have to re-train it with both old and new data and then replace the old system with the new one.\n",
    "\n",
    "\n",
    "## 3. Final Presentation\n",
    "Please refer to: <a href='../Presentation'>Presentation Folder</a>\n",
    "\n",
    "\n",
    "## 4. Project Feedback\n",
    "Please refer to: <a href='../Feedback'>Feedback Folder</a>"
   ]
  }
 ],
 "metadata": {
  "colab": {
   "collapsed_sections": [],
   "name": "Lead - Residential.ipynb",
   "provenance": []
  },
  "kernelspec": {
   "display_name": "Python 3",
   "language": "python",
   "name": "python3"
  },
  "language_info": {
   "codemirror_mode": {
    "name": "ipython",
    "version": 3
   },
   "file_extension": ".py",
   "mimetype": "text/x-python",
   "name": "python",
   "nbconvert_exporter": "python",
   "pygments_lexer": "ipython3",
   "version": "3.8.5"
  }
 },
 "nbformat": 4,
 "nbformat_minor": 1
}
